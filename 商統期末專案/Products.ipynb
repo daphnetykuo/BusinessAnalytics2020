{
 "cells": [
  {
   "cell_type": "code",
   "execution_count": 4,
   "metadata": {},
   "outputs": [],
   "source": [
    "library(dplyr)\n",
    "library(ggplot2)\n",
    "library(\"readxl\")"
   ]
  },
  {
   "cell_type": "code",
   "execution_count": 6,
   "metadata": {},
   "outputs": [
    {
     "ename": "ERROR",
     "evalue": "Error in read_excel(\"/Users/daphne/Desktop/Business_Analytics/FinalProject/資料集_ver2/商品資料_updated.xlsx\", : unused argument (encoding = \"UTF-8\")\n",
     "output_type": "error",
     "traceback": [
      "Error in read_excel(\"/Users/daphne/Desktop/Business_Analytics/FinalProject/資料集_ver2/商品資料_updated.xlsx\", : unused argument (encoding = \"UTF-8\")\nTraceback:\n"
     ]
    }
   ],
   "source": [
    "commdata <- read_excel(\"/Users/daphne/Desktop/Business_Analytics/FinalProject/資料集_ver2/商品資料_updated.xlsx\", encoding=\"UTF-8\")"
   ]
  },
  {
   "cell_type": "code",
   "execution_count": 3,
   "metadata": {},
   "outputs": [
    {
     "ename": "ERROR",
     "evalue": "Error in eval(expr, envir, enclos): object 'commdata' not found\n",
     "output_type": "error",
     "traceback": [
      "Error in eval(expr, envir, enclos): object 'commdata' not found\nTraceback:\n"
     ]
    }
   ],
   "source": [
    "commdata"
   ]
  },
  {
   "cell_type": "code",
   "execution_count": null,
   "metadata": {},
   "outputs": [],
   "source": []
  }
 ],
 "metadata": {
  "kernelspec": {
   "display_name": "R",
   "language": "R",
   "name": "ir"
  },
  "language_info": {
   "codemirror_mode": "r",
   "file_extension": ".r",
   "mimetype": "text/x-r-source",
   "name": "R",
   "pygments_lexer": "r",
   "version": "3.6.0"
  }
 },
 "nbformat": 4,
 "nbformat_minor": 2
}
