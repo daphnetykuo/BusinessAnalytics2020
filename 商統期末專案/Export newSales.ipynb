{
 "cells": [
  {
   "cell_type": "code",
   "execution_count": 4,
   "metadata": {},
   "outputs": [
    {
     "name": "stderr",
     "output_type": "stream",
     "text": [
      "\n",
      "Attaching package: ‘lubridate’\n",
      "\n",
      "The following object is masked from ‘package:base’:\n",
      "\n",
      "    date\n",
      "\n"
     ]
    }
   ],
   "source": [
    "library(\"writexl\")\n",
    "library(readxl)\n",
    "library(lubridate)"
   ]
  },
  {
   "cell_type": "code",
   "execution_count": 24,
   "metadata": {},
   "outputs": [
    {
     "data": {
      "text/html": [
       "<table>\n",
       "<thead><tr><th scope=col>CustCode</th><th scope=col>客戶名稱</th><th scope=col>SlipDate</th><th scope=col>Brand</th><th scope=col>BrandName</th><th scope=col>ProdtCode</th><th scope=col>原廠料號</th><th scope=col>ProdtName1</th><th scope=col>數量</th><th scope=col>金額</th><th scope=col>...</th><th scope=col>打折比率</th><th scope=col>類型</th><th scope=col>主型號.楦</th><th scope=col>性別</th><th scope=col>顏色</th><th scope=col>主型號</th><th scope=col>分類</th><th scope=col>new尺寸</th><th scope=col>打折區間</th><th scope=col>簡化類型</th></tr></thead>\n",
       "<tbody>\n",
       "\t<tr><td>B01125                                                             </td><td>紐巴倫(蝦皮)                                                       </td><td>2020/1/30                                                          </td><td>LF373                                                              </td><td>Lifestyle373                                                       </td><td>1901083031                                                         </td><td>ML373MTDD100                                                       </td><td>【New Balance】TIER 2 to 3 復古鞋_ML373MTD-D_中性_鐵灰_US10.0-28cm </td><td>1                                                                  </td><td>1564                                                               </td><td>...                                                                </td><td>0.6655319                                                          </td><td>【New Balance】TIER 2 to 3 復古鞋                                  </td><td>ML373MTD-D                                                         </td><td>中性                                                               </td><td>鐵灰                                                               </td><td>ML373MTD                                                           </td><td>鞋子                                                               </td><td>28cm                                                               </td><td>0.7                                                                </td><td>復古鞋                                                             </td></tr>\n",
       "\t<tr><td>B01125                                                             </td><td>紐巴倫(蝦皮)                                                       </td><td>2020/1/30                                                          </td><td>PFCRUZ                                                             </td><td>PERFCRUZ                                                           </td><td>1901083344                                                         </td><td>UCRUZGB2D110                                                       </td><td>【New Balance】緩震跑鞋_UCRUZGB2-D_中性_白色_US11.0-29cm           </td><td>1                                                                  </td><td>1761                                                               </td><td>...                                                                </td><td>0.4824658                                                          </td><td>【New Balance】緩震跑鞋                                            </td><td>UCRUZGB2-D                                                         </td><td>中性                                                               </td><td>白色                                                               </td><td>UCRUZGB2                                                           </td><td>鞋子                                                               </td><td>29cm                                                               </td><td>0.5                                                                </td><td>跑鞋                                                               </td></tr>\n",
       "\t<tr><td>B01125                                                             </td><td>紐巴倫(蝦皮)                                                       </td><td>2020/1/30                                                          </td><td>LF574                                                              </td><td>Lifestyle574                                                       </td><td>1901083469                                                         </td><td>WL574WNOB065                                                       </td><td>【New Balance】TIER 2 復古鞋_WL574WNO-B_女性_淺灰_US6.5-23.5cm     </td><td>1                                                                  </td><td>1904                                                               </td><td>...                                                                </td><td>0.6680702                                                          </td><td>【New Balance】TIER 2 復古鞋                                       </td><td>WL574WNO-B                                                         </td><td>女性                                                               </td><td>淺灰                                                               </td><td>WL574WNO                                                           </td><td>鞋子                                                               </td><td>23.5cm                                                             </td><td>0.7                                                                </td><td>復古鞋                                                             </td></tr>\n",
       "\t<tr><td>B01125                                                             </td><td>紐巴倫(蝦皮)                                                       </td><td>2020/2/3                                                           </td><td>PFNRGS                                                             </td><td>PERFNRGS                                                           </td><td>1901080567                                                         </td><td>WNRGSSB1D070                                                       </td><td>【New Balance】女性專用多功能訓練鞋_WNRGSSB1-D_女性_灰色_US7.0-24cm</td><td>3                                                                  </td><td>4884                                                               </td><td>...                                                                </td><td>0.6840336                                                          </td><td>【New Balance】女性專用多功能訓練鞋                                </td><td>WNRGSSB1-D                                                         </td><td>女性                                                               </td><td>灰色                                                               </td><td>WNRGSSB1                                                           </td><td>鞋子                                                               </td><td>24cm                                                               </td><td>0.7                                                                </td><td>訓練鞋                                                             </td></tr>\n",
       "\t<tr><td>B01125                                                             </td><td>紐巴倫(蝦皮)                                                       </td><td>2020/1/20                                                          </td><td>LF500                                                              </td><td>Lifestyle500                                                       </td><td>1901081403                                                         </td><td>GW500NPKB060                                                       </td><td>【New Balance】500 經典復古鞋_GW500NPK-B_女性_桃紅_US6.0-23cm      </td><td>1                                                                  </td><td>1343                                                               </td><td>...                                                                </td><td>0.5714894                                                          </td><td>【New Balance】500 經典復古鞋                                      </td><td>GW500NPK-B                                                         </td><td>女性                                                               </td><td>桃紅                                                               </td><td>GW500NPK                                                           </td><td>鞋子                                                               </td><td>23cm                                                               </td><td>0.6                                                                </td><td>復古鞋                                                             </td></tr>\n",
       "\t<tr><td>B01125                                                             </td><td>紐巴倫(蝦皮)                                                       </td><td>2020/1/30                                                          </td><td>LF24                                                               </td><td>Lifestyle24                                                        </td><td>1901082246                                                         </td><td>MS24SC2D100                                                        </td><td>【New Balance】TIER 3 復古鞋_MS24SC2-D_男性_黑色_US10.0-28cm       </td><td>1                                                                  </td><td>2333                                                               </td><td>...                                                                </td><td>0.9522449                                                          </td><td>【New Balance】TIER 3 復古鞋                                       </td><td>MS24SC2-D                                                          </td><td>男性                                                               </td><td>黑色                                                               </td><td>MS24SC2                                                            </td><td>鞋子                                                               </td><td>28cm                                                               </td><td>1.0                                                                </td><td>復古鞋                                                             </td></tr>\n",
       "</tbody>\n",
       "</table>\n"
      ],
      "text/latex": [
       "\\begin{tabular}{r|llllllllllllllllllllll}\n",
       " CustCode & 客戶名稱 & SlipDate & Brand & BrandName & ProdtCode & 原廠料號 & ProdtName1 & 數量 & 金額 & ... & 打折比率 & 類型 & 主型號.楦 & 性別 & 顏色 & 主型號 & 分類 & new尺寸 & 打折區間 & 簡化類型\\\\\n",
       "\\hline\n",
       "\t B01125                                                                      & 紐巴倫(蝦皮)                                                                & 2020/1/30                                                                   & LF373                                                                       & Lifestyle373                                                                & 1901083031                                                                  & ML373MTDD100                                                                & 【New Balance】TIER 2 to 3 復古鞋\\_ML373MTD-D\\_中性\\_鐵灰\\_US10.0-28cm  & 1                                                                           & 1564                                                                        & ...                                                                         & 0.6655319                                                                   & 【New Balance】TIER 2 to 3 復古鞋                                           & ML373MTD-D                                                                  & 中性                                                                        & 鐵灰                                                                        & ML373MTD                                                                    & 鞋子                                                                        & 28cm                                                                        & 0.7                                                                         & 復古鞋                                                                     \\\\\n",
       "\t B01125                                                                      & 紐巴倫(蝦皮)                                                                & 2020/1/30                                                                   & PFCRUZ                                                                      & PERFCRUZ                                                                    & 1901083344                                                                  & UCRUZGB2D110                                                                & 【New Balance】緩震跑鞋\\_UCRUZGB2-D\\_中性\\_白色\\_US11.0-29cm            & 1                                                                           & 1761                                                                        & ...                                                                         & 0.4824658                                                                   & 【New Balance】緩震跑鞋                                                     & UCRUZGB2-D                                                                  & 中性                                                                        & 白色                                                                        & UCRUZGB2                                                                    & 鞋子                                                                        & 29cm                                                                        & 0.5                                                                         & 跑鞋                                                                       \\\\\n",
       "\t B01125                                                                      & 紐巴倫(蝦皮)                                                                & 2020/1/30                                                                   & LF574                                                                       & Lifestyle574                                                                & 1901083469                                                                  & WL574WNOB065                                                                & 【New Balance】TIER 2 復古鞋\\_WL574WNO-B\\_女性\\_淺灰\\_US6.5-23.5cm      & 1                                                                           & 1904                                                                        & ...                                                                         & 0.6680702                                                                   & 【New Balance】TIER 2 復古鞋                                                & WL574WNO-B                                                                  & 女性                                                                        & 淺灰                                                                        & WL574WNO                                                                    & 鞋子                                                                        & 23.5cm                                                                      & 0.7                                                                         & 復古鞋                                                                     \\\\\n",
       "\t B01125                                                                      & 紐巴倫(蝦皮)                                                                & 2020/2/3                                                                    & PFNRGS                                                                      & PERFNRGS                                                                    & 1901080567                                                                  & WNRGSSB1D070                                                                & 【New Balance】女性專用多功能訓練鞋\\_WNRGSSB1-D\\_女性\\_灰色\\_US7.0-24cm & 3                                                                           & 4884                                                                        & ...                                                                         & 0.6840336                                                                   & 【New Balance】女性專用多功能訓練鞋                                         & WNRGSSB1-D                                                                  & 女性                                                                        & 灰色                                                                        & WNRGSSB1                                                                    & 鞋子                                                                        & 24cm                                                                        & 0.7                                                                         & 訓練鞋                                                                     \\\\\n",
       "\t B01125                                                                      & 紐巴倫(蝦皮)                                                                & 2020/1/20                                                                   & LF500                                                                       & Lifestyle500                                                                & 1901081403                                                                  & GW500NPKB060                                                                & 【New Balance】500 經典復古鞋\\_GW500NPK-B\\_女性\\_桃紅\\_US6.0-23cm       & 1                                                                           & 1343                                                                        & ...                                                                         & 0.5714894                                                                   & 【New Balance】500 經典復古鞋                                               & GW500NPK-B                                                                  & 女性                                                                        & 桃紅                                                                        & GW500NPK                                                                    & 鞋子                                                                        & 23cm                                                                        & 0.6                                                                         & 復古鞋                                                                     \\\\\n",
       "\t B01125                                                                      & 紐巴倫(蝦皮)                                                                & 2020/1/30                                                                   & LF24                                                                        & Lifestyle24                                                                 & 1901082246                                                                  & MS24SC2D100                                                                 & 【New Balance】TIER 3 復古鞋\\_MS24SC2-D\\_男性\\_黑色\\_US10.0-28cm        & 1                                                                           & 2333                                                                        & ...                                                                         & 0.9522449                                                                   & 【New Balance】TIER 3 復古鞋                                                & MS24SC2-D                                                                   & 男性                                                                        & 黑色                                                                        & MS24SC2                                                                     & 鞋子                                                                        & 28cm                                                                        & 1.0                                                                         & 復古鞋                                                                     \\\\\n",
       "\\end{tabular}\n"
      ],
      "text/markdown": [
       "\n",
       "| CustCode | 客戶名稱 | SlipDate | Brand | BrandName | ProdtCode | 原廠料號 | ProdtName1 | 數量 | 金額 | ... | 打折比率 | 類型 | 主型號.楦 | 性別 | 顏色 | 主型號 | 分類 | new尺寸 | 打折區間 | 簡化類型 |\n",
       "|---|---|---|---|---|---|---|---|---|---|---|---|---|---|---|---|---|---|---|---|---|\n",
       "| B01125                                                              | 紐巴倫(蝦皮)                                                        | 2020/1/30                                                           | LF373                                                               | Lifestyle373                                                        | 1901083031                                                          | ML373MTDD100                                                        | 【New Balance】TIER 2 to 3 復古鞋_ML373MTD-D_中性_鐵灰_US10.0-28cm  | 1                                                                   | 1564                                                                | ...                                                                 | 0.6655319                                                           | 【New Balance】TIER 2 to 3 復古鞋                                   | ML373MTD-D                                                          | 中性                                                                | 鐵灰                                                                | ML373MTD                                                            | 鞋子                                                                | 28cm                                                                | 0.7                                                                 | 復古鞋                                                              |\n",
       "| B01125                                                              | 紐巴倫(蝦皮)                                                        | 2020/1/30                                                           | PFCRUZ                                                              | PERFCRUZ                                                            | 1901083344                                                          | UCRUZGB2D110                                                        | 【New Balance】緩震跑鞋_UCRUZGB2-D_中性_白色_US11.0-29cm            | 1                                                                   | 1761                                                                | ...                                                                 | 0.4824658                                                           | 【New Balance】緩震跑鞋                                             | UCRUZGB2-D                                                          | 中性                                                                | 白色                                                                | UCRUZGB2                                                            | 鞋子                                                                | 29cm                                                                | 0.5                                                                 | 跑鞋                                                                |\n",
       "| B01125                                                              | 紐巴倫(蝦皮)                                                        | 2020/1/30                                                           | LF574                                                               | Lifestyle574                                                        | 1901083469                                                          | WL574WNOB065                                                        | 【New Balance】TIER 2 復古鞋_WL574WNO-B_女性_淺灰_US6.5-23.5cm      | 1                                                                   | 1904                                                                | ...                                                                 | 0.6680702                                                           | 【New Balance】TIER 2 復古鞋                                        | WL574WNO-B                                                          | 女性                                                                | 淺灰                                                                | WL574WNO                                                            | 鞋子                                                                | 23.5cm                                                              | 0.7                                                                 | 復古鞋                                                              |\n",
       "| B01125                                                              | 紐巴倫(蝦皮)                                                        | 2020/2/3                                                            | PFNRGS                                                              | PERFNRGS                                                            | 1901080567                                                          | WNRGSSB1D070                                                        | 【New Balance】女性專用多功能訓練鞋_WNRGSSB1-D_女性_灰色_US7.0-24cm | 3                                                                   | 4884                                                                | ...                                                                 | 0.6840336                                                           | 【New Balance】女性專用多功能訓練鞋                                 | WNRGSSB1-D                                                          | 女性                                                                | 灰色                                                                | WNRGSSB1                                                            | 鞋子                                                                | 24cm                                                                | 0.7                                                                 | 訓練鞋                                                              |\n",
       "| B01125                                                              | 紐巴倫(蝦皮)                                                        | 2020/1/20                                                           | LF500                                                               | Lifestyle500                                                        | 1901081403                                                          | GW500NPKB060                                                        | 【New Balance】500 經典復古鞋_GW500NPK-B_女性_桃紅_US6.0-23cm       | 1                                                                   | 1343                                                                | ...                                                                 | 0.5714894                                                           | 【New Balance】500 經典復古鞋                                       | GW500NPK-B                                                          | 女性                                                                | 桃紅                                                                | GW500NPK                                                            | 鞋子                                                                | 23cm                                                                | 0.6                                                                 | 復古鞋                                                              |\n",
       "| B01125                                                              | 紐巴倫(蝦皮)                                                        | 2020/1/30                                                           | LF24                                                                | Lifestyle24                                                         | 1901082246                                                          | MS24SC2D100                                                         | 【New Balance】TIER 3 復古鞋_MS24SC2-D_男性_黑色_US10.0-28cm        | 1                                                                   | 2333                                                                | ...                                                                 | 0.9522449                                                           | 【New Balance】TIER 3 復古鞋                                        | MS24SC2-D                                                           | 男性                                                                | 黑色                                                                | MS24SC2                                                             | 鞋子                                                                | 28cm                                                                | 1.0                                                                 | 復古鞋                                                              |\n",
       "\n"
      ],
      "text/plain": [
       "  CustCode 客戶名稱     SlipDate  Brand  BrandName    ProdtCode  原廠料號    \n",
       "1 B01125   紐巴倫(蝦皮) 2020/1/30 LF373  Lifestyle373 1901083031 ML373MTDD100\n",
       "2 B01125   紐巴倫(蝦皮) 2020/1/30 PFCRUZ PERFCRUZ     1901083344 UCRUZGB2D110\n",
       "3 B01125   紐巴倫(蝦皮) 2020/1/30 LF574  Lifestyle574 1901083469 WL574WNOB065\n",
       "4 B01125   紐巴倫(蝦皮) 2020/2/3  PFNRGS PERFNRGS     1901080567 WNRGSSB1D070\n",
       "5 B01125   紐巴倫(蝦皮) 2020/1/20 LF500  Lifestyle500 1901081403 GW500NPKB060\n",
       "6 B01125   紐巴倫(蝦皮) 2020/1/30 LF24   Lifestyle24  1901082246 MS24SC2D100 \n",
       "  ProdtName1                                                          數量 金額\n",
       "1 【New Balance】TIER 2 to 3 復古鞋_ML373MTD-D_中性_鐵灰_US10.0-28cm  1    1564\n",
       "2 【New Balance】緩震跑鞋_UCRUZGB2-D_中性_白色_US11.0-29cm            1    1761\n",
       "3 【New Balance】TIER 2 復古鞋_WL574WNO-B_女性_淺灰_US6.5-23.5cm      1    1904\n",
       "4 【New Balance】女性專用多功能訓練鞋_WNRGSSB1-D_女性_灰色_US7.0-24cm 3    4884\n",
       "5 【New Balance】500 經典復古鞋_GW500NPK-B_女性_桃紅_US6.0-23cm       1    1343\n",
       "6 【New Balance】TIER 3 復古鞋_MS24SC2-D_男性_黑色_US10.0-28cm        1    2333\n",
       "  ... 打折比率  類型                                主型號.楦  性別 顏色\n",
       "1 ... 0.6655319 【New Balance】TIER 2 to 3 復古鞋   ML373MTD-D 中性 鐵灰\n",
       "2 ... 0.4824658 【New Balance】緩震跑鞋             UCRUZGB2-D 中性 白色\n",
       "3 ... 0.6680702 【New Balance】TIER 2 復古鞋        WL574WNO-B 女性 淺灰\n",
       "4 ... 0.6840336 【New Balance】女性專用多功能訓練鞋 WNRGSSB1-D 女性 灰色\n",
       "5 ... 0.5714894 【New Balance】500 經典復古鞋       GW500NPK-B 女性 桃紅\n",
       "6 ... 0.9522449 【New Balance】TIER 3 復古鞋        MS24SC2-D  男性 黑色\n",
       "  主型號   分類 new尺寸 打折區間 簡化類型\n",
       "1 ML373MTD 鞋子 28cm    0.7      復古鞋  \n",
       "2 UCRUZGB2 鞋子 29cm    0.5      跑鞋    \n",
       "3 WL574WNO 鞋子 23.5cm  0.7      復古鞋  \n",
       "4 WNRGSSB1 鞋子 24cm    0.7      訓練鞋  \n",
       "5 GW500NPK 鞋子 23cm    0.6      復古鞋  \n",
       "6 MS24SC2  鞋子 28cm    1.0      復古鞋  "
      ]
     },
     "metadata": {},
     "output_type": "display_data"
    }
   ],
   "source": [
    "sales <- read_excel(\"/Users/daphne/Desktop/Business_Analytics/FinalProject/NBdata/Sales_reducedtype.xlsx\")\n",
    "head(sales)"
   ]
  },
  {
   "cell_type": "code",
   "execution_count": 27,
   "metadata": {},
   "outputs": [],
   "source": [
    "sales$客戶名稱 <- as.character(sales$客戶名稱)\n",
    "sales$客戶名稱[sales$客戶名稱 == \"紐巴倫(蝦皮)\"] <- \"Shopee\"\n",
    "sales$客戶名稱[sales$客戶名稱 == \"紐巴倫(樂天)\"] <- \"Lotte\"\n",
    "sales$客戶名稱[sales$客戶名稱 == \"紐巴倫官網\"] <- \"NB\"\n",
    "sales$客戶名稱[sales$客戶名稱 == \"MOMO紐巴倫\"] <- \"MOMO\"\n",
    "sales$客戶名稱[sales$客戶名稱 == \"YAHOO紐巴倫\"] <- \"YAHOO\"\n",
    "sales$CustCode <- as.factor(sales$CustCode)\n",
    "sales$客戶名稱 <- as.factor(sales$客戶名稱)\n",
    "sales$Brand <- as.factor(sales$Brand)\n",
    "sales$BrandName <- as.factor(sales$BrandName)\n",
    "sales$ProdtCode <- as.factor(sales$ProdtCode)\n",
    "sales$類型 <- as.factor(sales$類型)\n",
    "sales$主型號.楦 <- as.factor(sales$主型號.楦)\n",
    "sales$性別 <- as.factor(sales$性別)\n",
    "sales$顏色 <- as.factor(sales$顏色)\n",
    "sales$new尺寸 <- as.factor(sales$new尺寸)\n",
    "sales$主型號 <- as.factor(sales$主型號)\n",
    "sales$簡化類型 <- as.factor(sales$簡化類型)\n",
    "sales$分類 <- as.factor(sales$分類)\n",
    "sales$SlipDate <- ymd(sales$SlipDate)"
   ]
  },
  {
   "cell_type": "code",
   "execution_count": 28,
   "metadata": {},
   "outputs": [
    {
     "name": "stdout",
     "output_type": "stream",
     "text": [
      "Classes ‘tbl_df’, ‘tbl’ and 'data.frame':\t51039 obs. of  22 variables:\n",
      " $ CustCode  : Factor w/ 6 levels \"B01125\",\"B01127\",..: 1 1 1 1 1 1 1 1 1 1 ...\n",
      " $ 客戶名稱  : Factor w/ 6 levels \"Lotte\",\"MOMO\",..: 5 5 5 5 5 5 5 5 5 5 ...\n",
      " $ SlipDate  : Date, format: \"2020-01-30\" \"2020-01-30\" ...\n",
      " $ Brand     : Factor w/ 125 levels \"LF\",\"LF009\",\"LF10\",..: 17 86 27 102 21 12 23 11 94 44 ...\n",
      " $ BrandName : Factor w/ 121 levels \"Lifesty1300\",..: 19 68 29 80 23 14 25 13 74 46 ...\n",
      " $ ProdtCode : Factor w/ 5874 levels \"1901080002\",\"1901080003\",..: 2627 2856 2971 430 1166 1927 1997 1990 2052 1620 ...\n",
      " $ 原廠料號  : chr  \"ML373MTDD100\" \"UCRUZGB2D110\" \"WL574WNOB065\" \"WNRGSSB1D070\" ...\n",
      " $ ProdtName1: chr  \"【New Balance】TIER 2 to 3 復古鞋_ML373MTD-D_中性_鐵灰_US10.0-28cm\" \"【New Balance】緩震跑鞋_UCRUZGB2-D_中性_白色_US11.0-29cm\" \"【New Balance】TIER 2 復古鞋_WL574WNO-B_女性_淺灰_US6.5-23.5cm\" \"【New Balance】女性專用多功能訓練鞋_WNRGSSB1-D_女性_灰色_US7.0-24cm\" ...\n",
      " $ 數量      : num  1 1 1 3 1 1 1 1 1 1 ...\n",
      " $ 金額      : num  1564 1761 1904 4884 1343 ...\n",
      " $ 實售單價  : num  1564 1761 1904 1628 1343 ...\n",
      " $ 建議售價  : num  2350 3650 2850 2380 2350 2450 3250 2550 3650 2950 ...\n",
      " $ 打折比率  : num  0.666 0.482 0.668 0.684 0.571 ...\n",
      " $ 類型      : Factor w/ 173 levels \"【New Balance】10,20,30,50,80避震跑鞋\",..: 84 146 85 108 8 87 81 87 167 85 ...\n",
      " $ 主型號.楦 : Factor w/ 848 levels \"5872010389\",\"7110400280\",..: 315 552 644 680 246 409 548 546 595 699 ...\n",
      " $ 性別      : Factor w/ 4 levels \"0\",\"中性\",\"女性\",..: 2 2 3 3 3 4 2 2 3 3 ...\n",
      " $ 顏色      : Factor w/ 63 levels \"0\",\"丈青\",\"卡其\",..: 59 36 23 31 14 63 63 63 7 63 ...\n",
      " $ 主型號    : Factor w/ 838 levels \"5872010389\",\"7110400280\",..: 312 547 638 671 246 406 543 541 589 690 ...\n",
      " $ 分類      : Factor w/ 3 levels \"其他\",\"服飾\",..: 3 3 3 3 3 3 3 3 3 3 ...\n",
      " $ new尺寸   : Factor w/ 40 levels \"0\",\"12.5cm\",\"12cm\",..: 28 30 17 20 18 28 18 26 17 22 ...\n",
      " $ 打折區間  : num  0.7 0.5 0.7 0.7 0.6 1 0.6 0.7 0.7 0.6 ...\n",
      " $ 簡化類型  : Factor w/ 138 levels \"990V5印花短袖上衣\",..: 91 135 91 134 91 91 91 91 135 91 ...\n"
     ]
    }
   ],
   "source": [
    "str(sales)"
   ]
  },
  {
   "cell_type": "code",
   "execution_count": 29,
   "metadata": {},
   "outputs": [
    {
     "ename": "ERROR",
     "evalue": "Error in \"#sales$尺寸 <- as.character(sales$尺寸)\\nfor (i in c(1: nrow(sales))){\\n    if (grepl(pattern = \\\"-\\\", x = sales$尺寸[i]) == TRUE){\\n        tmp <- unlist(strsplit(toString(sales[i,18]), split=\" - : non-numeric argument to binary operator\n",
     "output_type": "error",
     "traceback": [
      "Error in \"#sales$尺寸 <- as.character(sales$尺寸)\\nfor (i in c(1: nrow(sales))){\\n    if (grepl(pattern = \\\"-\\\", x = sales$尺寸[i]) == TRUE){\\n        tmp <- unlist(strsplit(toString(sales[i,18]), split=\" - : non-numeric argument to binary operator\nTraceback:\n"
     ]
    }
   ],
   "source": [
    "'#sales$尺寸 <- as.character(sales$尺寸)\n",
    "for (i in c(1: nrow(sales))){\n",
    "    if (grepl(pattern = \"-\", x = sales$尺寸[i]) == TRUE){\n",
    "        tmp <- unlist(strsplit(toString(sales[i,18]), split='-', fixed=TRUE))[2]\n",
    "    }else{tmp <- as.character(sales[i,18])}\n",
    "    sales$new尺寸[i] <- tmp\n",
    "}\n",
    "\n",
    "sales$new尺寸 <- as.factor(sales$new尺寸)'"
   ]
  },
  {
   "cell_type": "code",
   "execution_count": 30,
   "metadata": {},
   "outputs": [],
   "source": [
    "write_xlsx(sales,\"/Users/daphne/Desktop/Business_Analytics/FinalProject/NBdata/newSales.xlsx\")"
   ]
  },
  {
   "cell_type": "code",
   "execution_count": null,
   "metadata": {},
   "outputs": [],
   "source": []
  }
 ],
 "metadata": {
  "kernelspec": {
   "display_name": "R",
   "language": "R",
   "name": "ir"
  },
  "language_info": {
   "codemirror_mode": "r",
   "file_extension": ".r",
   "mimetype": "text/x-r-source",
   "name": "R",
   "pygments_lexer": "r",
   "version": "3.6.0"
  }
 },
 "nbformat": 4,
 "nbformat_minor": 2
}
